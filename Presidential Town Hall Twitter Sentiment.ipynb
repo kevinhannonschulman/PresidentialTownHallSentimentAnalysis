{
 "cells": [
  {
   "cell_type": "code",
   "execution_count": 1,
   "metadata": {},
   "outputs": [],
   "source": [
    "import tweepy\n",
    "from tweepy import StreamListener\n",
    "from tweepy import OAuthHandler\n",
    "from tweepy import Stream\n",
    "import datetime as dt\n",
    "import csv\n",
    "import pandas as pd"
   ]
  },
  {
   "cell_type": "code",
   "execution_count": null,
   "metadata": {},
   "outputs": [],
   "source": [
    "#biden tweets\n",
    "\n",
    "consumerkey = #\n",
    "consumersecret = #\n",
    "accesskey = #\n",
    "accesssecret = #\n",
    "\n",
    "\n",
    "class StdOutListener(StreamListener):\n",
    "    def on_status(self, status):\n",
    "        if (status.lang == \"en\") & (status.user.followers_count >= 500): #filter by English language, followers to mitigate spam\n",
    "            if hasattr(status,'extended_tweet'):\n",
    "                text = status.extended_tweet['full_text']\n",
    "            else:\n",
    "                text = status.text\n",
    "                \n",
    "            csvw.writerow([status.id, status.user.screen_name,\n",
    "                       status.created_at,\n",
    "                       status.user.followers_count,\n",
    "                       text])\n",
    "            return True\n",
    "    \n",
    "    def on_error(self, status_code): #prevent exceeding Twitter's rate limit\n",
    "        if status_code == 420:\n",
    "            return False\n",
    "        \n",
    "if __name__ == \"__main__\":\n",
    "    l = StdOutListener()\n",
    "    auth = OAuthHandler(consumerkey, consumersecret)\n",
    "    auth.set_access_token(accesskey, accesssecret)\n",
    "    stream = Stream(auth, l, tweet_mode = 'extended')\n",
    "    \n",
    " #create csv to store tweets\n",
    "    csvw = csv.writer(open(\"bidentweets.csv\", \"a\"))\n",
    "    csvw.writerow([\"id\", \"username\", \"date\", \"followers\", \"text\"]) #csv headings\n",
    "    tags = [\"joe+biden\", \"biden\", \"vp+biden\", \"biden+town+hall\"]\n",
    "    stream.filter(track=tags)"
   ]
  },
  {
   "cell_type": "code",
   "execution_count": null,
   "metadata": {},
   "outputs": [],
   "source": [
    "#trump tweets\n",
    "\n",
    "consumerkey = #\n",
    "consumersecret = #\n",
    "accesskey = #\n",
    "accesssecret = #\n",
    "\n",
    "\n",
    "class StdOutListener(StreamListener):\n",
    "    def on_status(self, status):\n",
    "        if (status.lang == \"en\") & (status.user.followers_count >= 500): #filter by English language, followers to mitigate spam\n",
    "            if hasattr(status,'extended_tweet'):\n",
    "                text = status.extended_tweet['full_text']\n",
    "            else:\n",
    "                text = status.text\n",
    "                \n",
    "            csvw.writerow([status.id, status.user.screen_name,\n",
    "                       status.created_at,\n",
    "                       status.user.followers_count,\n",
    "                       text])\n",
    "            return True\n",
    "    \n",
    "    def on_error(self, status_code): #prevent exceeding Twitter's rate limit\n",
    "        if status_code == 420:\n",
    "            return False\n",
    "        \n",
    "if __name__ == \"__main__\":\n",
    "    l = StdOutListener()\n",
    "    auth = OAuthHandler(consumerkey, consumersecret)\n",
    "    auth.set_access_token(accesskey, accesssecret)\n",
    "    stream = Stream(auth, l, tweet_mode = 'extended')\n",
    "    \n",
    " #create csv to store tweets\n",
    "    csvw = csv.writer(open(\"trumptweets.csv\", \"a\"))\n",
    "    csvw.writerow([\"id\", \"username\", \"date\", \"followers\", \"text\"]) #csv headings\n",
    "    tags = [\"donald+trump\", \"trump\", \"president+trump\", \"trump+town+hall\"]\n",
    "    stream.filter(track=tags)"
   ]
  },
  {
   "cell_type": "code",
   "execution_count": 2,
   "metadata": {},
   "outputs": [],
   "source": [
    "import pandas as pd\n",
    "import numpy as np\n",
    "import re\n",
    "import string\n",
    "import matplotlib as mpl\n",
    "from datetime import timezone, datetime\n",
    "import pytz\n",
    "from nltk.corpus import stopwords\n",
    "from nltk.tokenize import word_tokenize\n",
    "from sklearn.feature_extraction.text import TfidfVectorizer\n",
    "from sklearn.model_selection import train_test_split\n",
    "from nltk.stem import WordNetLemmatizer\n",
    "# ML Libraries\n",
    "from sklearn.metrics import accuracy_score, confusion_matrix, classification_report\n",
    "from sklearn.naive_bayes import MultinomialNB\n",
    "from sklearn.linear_model import LogisticRegression\n",
    "from sklearn.svm import SVC\n",
    "stop_words = set(stopwords.words('english'))"
   ]
  },
  {
   "cell_type": "code",
   "execution_count": 3,
   "metadata": {},
   "outputs": [],
   "source": [
    "def load_dataset(filename, cols):\n",
    "    dataset = pd.read_csv(filename, encoding = \"latin-1\") #load csv into pandas dataframe\n",
    "    dataset.columns = cols\n",
    "    return dataset\n",
    "\n",
    "def remove_unwanted_cols(dataset, cols):\n",
    "    for col in cols:\n",
    "        del dataset[col] #identify columns to drop from dataset\n",
    "        \n",
    "    return dataset"
   ]
  },
  {
   "cell_type": "code",
   "execution_count": 14,
   "metadata": {},
   "outputs": [],
   "source": [
    "def preprocess_tweet_text(tweet):\n",
    "    tweet.lower()\n",
    "    # Remove urls\n",
    "    tweet = re.sub(r\"http\\S+|www\\S+|https\\S+\", '', tweet, flags=re.MULTILINE)\n",
    "    tweet = re.sub('(RT\\s@[A-Za-z]+[A-Za-z0-9-_]+)', '', tweet) # remove retweets\n",
    "    tweet = re.sub('(@[A-Za-z]+[A-Za-z0-9-_]+)', '', tweet) # remove @\n",
    "    # Remove punctuations\n",
    "    tweet = tweet.translate(str.maketrans('', '', string.punctuation))\n",
    "    # Remove stopwords\n",
    "    tweet_tokens = word_tokenize(tweet)\n",
    "    filtered_words = [w for w in tweet_tokens if not w in stop_words]\n",
    "    \n",
    "    lemmatizer = WordNetLemmatizer() #lemmatize words to dictionary form\n",
    "    lemma_words = [lemmatizer.lemmatize(w) for w in filtered_words]\n",
    "    \n",
    "    return \" \".join(lemma_words)"
   ]
  },
  {
   "cell_type": "code",
   "execution_count": 15,
   "metadata": {},
   "outputs": [],
   "source": [
    "#load training dataset\n",
    "\n",
    "dataset = load_dataset(\"training.csv\", [\"target\", \"t_id\", \"created_at\", \"query\", \"user\", \"text\"])\n",
    "n_dataset = remove_unwanted_cols(dataset, [\"t_id\", \"created_at\", \"query\", \"user\"])\n",
    "dataset.text = dataset[\"text\"].apply(preprocess_tweet_text)"
   ]
  },
  {
   "cell_type": "code",
   "execution_count": 16,
   "metadata": {},
   "outputs": [],
   "source": [
    "#load biden tweets\n",
    "\n",
    "bidentweets = load_dataset(\"bidentweets.csv\", [\"id\", \"username\", \"date\", \"followers\", \"text\"])\n",
    "n_bidentweets = remove_unwanted_cols(bidentweets, [\"id\", \"username\", \"followers\"])\n",
    "bidentweets.text = bidentweets[\"text\"].apply(preprocess_tweet_text)"
   ]
  },
  {
   "cell_type": "code",
   "execution_count": 17,
   "metadata": {},
   "outputs": [],
   "source": [
    "#load trump tweets\n",
    "\n",
    "trumptweets = load_dataset(\"trumptweets.csv\", [\"id\", \"username\", \"date\", \"followers\", \"text\"])\n",
    "n_trumptweets = remove_unwanted_cols(trumptweets, [\"id\", \"username\", \"followers\"])\n",
    "trumptweets.text = trumptweets[\"text\"].apply(preprocess_tweet_text)"
   ]
  },
  {
   "cell_type": "code",
   "execution_count": 18,
   "metadata": {},
   "outputs": [],
   "source": [
    "def get_feature_vector(train_fit):\n",
    "    vector = TfidfVectorizer(sublinear_tf=True)\n",
    "    vector.fit(train_fit)\n",
    "    return vector"
   ]
  },
  {
   "cell_type": "code",
   "execution_count": 19,
   "metadata": {},
   "outputs": [],
   "source": [
    "tf_vector = get_feature_vector(np.array(dataset.iloc[:, 1]).ravel()) #vectorize training data for model\n",
    "X = tf_vector.transform(np.array(dataset.iloc[:, 1]).ravel())\n",
    "y = np.array(dataset.iloc[:, 0]).ravel()\n",
    "X_train, X_test, y_train, y_test = train_test_split(X, y, test_size=0.2, random_state=30)"
   ]
  },
  {
   "cell_type": "code",
   "execution_count": 20,
   "metadata": {},
   "outputs": [
    {
     "name": "stdout",
     "output_type": "stream",
     "text": [
      "0.767609375\n",
      "              precision    recall  f1-score   support\n",
      "\n",
      "           0       0.76      0.78      0.77    160465\n",
      "           4       0.77      0.75      0.76    159535\n",
      "\n",
      "    accuracy                           0.77    320000\n",
      "   macro avg       0.77      0.77      0.77    320000\n",
      "weighted avg       0.77      0.77      0.77    320000\n",
      "\n"
     ]
    }
   ],
   "source": [
    "# Training Naive Bayes model\n",
    "NB_model = MultinomialNB()\n",
    "NB_model.fit(X_train, y_train)\n",
    "y_predict_nb = NB_model.predict(X_test)\n",
    "print(accuracy_score(y_test, y_predict_nb))\n",
    "print(classification_report(y_test, y_predict_nb))"
   ]
  },
  {
   "cell_type": "code",
   "execution_count": 21,
   "metadata": {},
   "outputs": [],
   "source": [
    "#vectorize biden and trump tweets\n",
    "\n",
    "bidenvector = tf_vector.transform(np.array(bidentweets.iloc[:, 1]).ravel())\n",
    "trumpvector = tf_vector.transform(np.array(trumptweets.iloc[:, 1]).ravel())"
   ]
  },
  {
   "cell_type": "code",
   "execution_count": 22,
   "metadata": {},
   "outputs": [],
   "source": [
    "#Using Naive Bayes model for prediction\n",
    "\n",
    "#biden\n",
    "bidenmodelrun = NB_model.predict(bidenvector)\n",
    "bidenpredictions = pd.DataFrame({\"text\": bidentweets.text, \"date\": bidentweets.date, \"prediction\": bidenmodelrun})\n",
    "bidenpredictions[\"date\"] = pd.to_datetime(bidenpredictions.date, format = \"%Y-%m-%d %H:%M:%S\")\n",
    "bidenpredictions[\"date\"] = bidenpredictions[\"date\"].dt.tz_localize(timezone.utc)\n",
    "easterntimezone = pytz.timezone(\"America/New_York\") #convert time from utc to edt\n",
    "bidenpredictions[\"date\"] = bidenpredictions[\"date\"].dt.tz_convert(easterntimezone) #convert time from utc to edt\n",
    "\n",
    "#trump\n",
    "trumpmodelrun = NB_model.predict(trumpvector)\n",
    "trumppredictions = pd.DataFrame({\"text\": trumptweets.text, \"date\": trumptweets.date, \"prediction\": trumpmodelrun})\n",
    "trumppredictions[\"date\"] = pd.to_datetime(trumppredictions.date, format = \"%Y-%m-%d %H:%M:%S\")\n",
    "trumppredictions[\"date\"] = trumppredictions[\"date\"].dt.tz_localize(timezone.utc)\n",
    "easterntimezone = pytz.timezone(\"America/New_York\") #convert time from utc to edt\n",
    "trumppredictions[\"date\"] = trumppredictions[\"date\"].dt.tz_convert(easterntimezone) #convert time from utc to edt"
   ]
  },
  {
   "cell_type": "code",
   "execution_count": 75,
   "metadata": {},
   "outputs": [
    {
     "data": {
      "text/plain": [
       "((148711, 4), (144401, 4))"
      ]
     },
     "execution_count": 75,
     "metadata": {},
     "output_type": "execute_result"
    }
   ],
   "source": [
    "bidenpredictions.shape, trumppredictions.shape"
   ]
  },
  {
   "cell_type": "code",
   "execution_count": 73,
   "metadata": {},
   "outputs": [
    {
     "data": {
      "image/png": "[encoded data removed]",
      "text/plain": [
       "<Figure size 576x396 with 1 Axes>"
      ]
     },
     "metadata": {},
     "output_type": "display_data"
    }
   ],
   "source": [
    "#visualization\n",
    "\n",
    "import matplotlib.style as style\n",
    "import matplotlib.dates as mdates\n",
    "import matplotlib.pyplot as plt\n",
    "mpl.rcParams[\"timezone\"] = \"America/New_York\"\n",
    "style.use(\"seaborn\")\n",
    "\n",
    "bidenpredictions[\"rollingaverage\"] = bidenpredictions.iloc[:,2].rolling(window = 1000).mean()\n",
    "trumppredictions[\"rollingaverage\"] = trumppredictions.iloc[:,2].rolling(window = 1000).mean()\n",
    "\n",
    "plt.plot_date(bidenpredictions[\"date\"], bidenpredictions[\"rollingaverage\"], linestyle = \"-\", linewidth = 0.2, markersize = 1, color = \"#00A6EF\", label = \"Joe Biden\")\n",
    "plt.plot_date(trumppredictions[\"date\"], trumppredictions[\"rollingaverage\"], linestyle = \"-\", linewidth = 0.2, markersize = 1, color = \"#E81B23\", label = \"Donald Trump\")\n",
    "plotformat = mdates.DateFormatter(\"%H:%M\")\n",
    "plt.gcf().axes[0].xaxis.set_major_formatter(plotformat)\n",
    "\n",
    "plt.gcf().autofmt_xdate()\n",
    "plt.title(\"Presidential Town Hall Twitter Sentiment (10/15/20)\")\n",
    "plt.xlabel(\"Time (EDT)\")\n",
    "plt.ylabel(\"Sentiment\")\n",
    "plt.legend(loc = \"lower right\")\n",
    "plt.savefig(\"presidentialtownhallsentiment.png\")"
   ]
  },
  {
   "cell_type": "code",
   "execution_count": null,
   "metadata": {},
   "outputs": [],
   "source": []
  }
 ],
 "metadata": {
  "kernelspec": {
   "display_name": "Python 3",
   "language": "python",
   "name": "python3"
  },
  "language_info": {
   "codemirror_mode": {
    "name": "ipython",
    "version": 3
   },
   "file_extension": ".py",
   "mimetype": "text/x-python",
   "name": "python",
   "nbconvert_exporter": "python",
   "pygments_lexer": "ipython3",
   "version": "3.7.4"
  }
 },
 "nbformat": 4,
 "nbformat_minor": 4
}
